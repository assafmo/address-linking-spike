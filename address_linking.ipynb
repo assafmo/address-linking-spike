{
 "cells": [
  {
   "cell_type": "code",
   "execution_count": 87,
   "id": "a30c60e4",
   "metadata": {},
   "outputs": [],
   "source": [
    "from abc import ABC, abstractmethod\n",
    "import hashlib\n",
    "from ecdsa import SigningKey, VerifyingKey, SECP256k1, BadSignatureError\n",
    "from ecdsa.util import sigencode_string_canonize\n",
    "from bech32 import bech32_encode, convertbits\n",
    "import base64\n",
    "from eth_keys import keys as eth_keys\n",
    "from dataclasses import dataclass\n",
    "import json"
   ]
  },
  {
   "cell_type": "markdown",
   "id": "81fa9a8c",
   "metadata": {},
   "source": [
    "### Verifier Interface"
   ]
  },
  {
   "cell_type": "code",
   "execution_count": 89,
   "id": "a8b8d892",
   "metadata": {},
   "outputs": [],
   "source": [
    "class SignatureVerifier(ABC):\n",
    "    \"\"\"\n",
    "    Abstract class to define signature verification and address construction\n",
    "    from different chains types\n",
    "    \"\"\"\n",
    "    @abstractmethod\n",
    "    def verify_signature(self, public_key: str, message: str, signature: str):\n",
    "        pass\n",
    "\n",
    "    @abstractmethod\n",
    "    def generate_address(self, public_key: str):\n",
    "        pass"
   ]
  },
  {
   "cell_type": "markdown",
   "id": "219a354a",
   "metadata": {},
   "source": [
    "### Signers"
   ]
  },
  {
   "cell_type": "code",
   "execution_count": 88,
   "id": "3fa5ec88",
   "metadata": {},
   "outputs": [],
   "source": [
    "def sign_cosmos(private_key: str, message: str) -> str:\n",
    "    \"\"\"\n",
    "    Signs a message from a cosmos account\n",
    "    \"\"\"\n",
    "    pk = SigningKey.from_string(bytes.fromhex(private_key), curve=SECP256k1, hashfunc=hashlib.sha256)\n",
    "    return pk.sign(message.encode()).hex()\n",
    "\n",
    "def sign_ethereum(private_key: str, message: str) -> str:\n",
    "    \"\"\"\n",
    "    Signs a message from an etherum account\n",
    "    \"\"\"\n",
    "    pk = eth_keys.PrivateKey(bytes.fromhex(private_key))\n",
    "    return str(pk.sign_msg(message.encode()))"
   ]
  },
  {
   "cell_type": "markdown",
   "id": "2623974d",
   "metadata": {},
   "source": [
    "### Verifiers"
   ]
  },
  {
   "cell_type": "code",
   "execution_count": 93,
   "id": "1bbcf002",
   "metadata": {},
   "outputs": [],
   "source": [
    "@dataclass\n",
    "class CosmosVerifier(SignatureVerifier):\n",
    "    \"\"\"\n",
    "    Verifier for cosmos addresses (coin type 118)\n",
    "    \"\"\"\n",
    "    bech_prefix: str\n",
    "\n",
    "    def verify_signature(self, public_key: str, message: str, signature: str):\n",
    "        \"\"\"\n",
    "        Verifies a signature from a cosmos account\n",
    "        \"\"\"\n",
    "        pk_bytes = base64.b64decode(public_key)\n",
    "        verifying_key = VerifyingKey.from_string(pk_bytes, curve=SECP256k1, hashfunc=hashlib.sha256)\n",
    "        signature_bz = bytes.fromhex(signature)\n",
    "        try:\n",
    "            return verifying_key.verify(signature_bz, message.encode())\n",
    "        except BadSignatureError:\n",
    "            return False\n",
    "\n",
    "    def generate_address(self, public_key: str):\n",
    "        \"\"\"\n",
    "        Generates a cosmos address from a public key\n",
    "        \"\"\"\n",
    "        pk_bytes = base64.b64decode(public_key)\n",
    "        s = hashlib.new(\"sha256\", pk_bytes).digest()\n",
    "        r = hashlib.new(\"ripemd160\", s).digest()\n",
    "        r = convertbits(r, 8, 5)\n",
    "        if not r:\n",
    "            raise ValueError(\"unable to generate address\")\n",
    "        return bech32_encode(self.bech_prefix, r)\n",
    "    \n",
    "class EthereumVerifier(SignatureVerifier):\n",
    "    \"\"\"\n",
    "    Verifier for ethereum addresses (coin type 60)\n",
    "    \"\"\"\n",
    "\n",
    "    def verify_signature(self, public_key: str, message: str, signature: str):\n",
    "        \"\"\"\n",
    "        Verifies a signature from an ethereum account\n",
    "        \"\"\"\n",
    "        verifying_key = eth_keys.PublicKey(bytes.fromhex(public_key))\n",
    "        signature_obj = eth_keys.Signature(bytes.fromhex(signature))\n",
    "        try:\n",
    "            verified = verifying_key.verify_msg(message.encode(), signature_obj)\n",
    "            return verified\n",
    "        except Exception:\n",
    "            return False\n",
    "\n",
    "    def generate_address(self, public_key: str):\n",
    "        \"\"\"\n",
    "        Generates an ethereum address from a public key\n",
    "        \"\"\"\n",
    "        return eth_keys.PublicKey(bytes.fromhex(public_key)).to_address()\n"
   ]
  },
  {
   "cell_type": "markdown",
   "id": "7cedbc31",
   "metadata": {},
   "source": [
    "### Setup"
   ]
  },
  {
   "cell_type": "code",
   "execution_count": 92,
   "id": "dd2533bb",
   "metadata": {},
   "outputs": [],
   "source": [
    "mnemonic = \"ride text double erupt light banner battle bench mouse gap olympic tackle decade simple army boat vital idle coyote neck movie kidney drastic skirt\"\n",
    "\n",
    "cosmos_private_key = \"0b39dbced06015b9f7d2ebb076071cb93fcfaaa093f6a6ff9450efce3b4be4fd\"\n",
    "cosmos_public_key = \"A7U3vhjbQ1HtcJmS3Z70X9ViIqhH3OvpPTeuUcbM9Iwf\"  \n",
    "cosmos_address = \"cosmos1ulld64kguwfgt7h05qufp5qjcsfqp9puq5mtht\"\n",
    "\n",
    "ethereum_private_key = \"0a6231f9f5cda82e2d71652fb5f7cfb60b19575e5dd3b91b03a3845e7399700a\"\n",
    "ethereum_public_key = str(eth_keys.PrivateKey(bytes.fromhex(ethereum_private_key)).public_key).replace(\"0x\", \"\")\n",
    "ethereum_address = \"0xd9e45357b93225e94ab50bd859a767d542b8f881\""
   ]
  },
  {
   "cell_type": "code",
   "execution_count": 96,
   "id": "d9222409",
   "metadata": {},
   "outputs": [],
   "source": [
    "message = {\n",
    "    \"chain_id\": \"\",\n",
    "    \"account_number\": \"0\",\n",
    "    \"sequence\": \"0\",\n",
    "    \"fee\": {\n",
    "        \"gas\": \"0\",\n",
    "        \"amount\": []\n",
    "    },\n",
    "    \"msgs\": [\n",
    "        {\n",
    "            \"type\": \"sign/MsgSignData\",\n",
    "            \"value\": {\n",
    "                \"signer\": \"stride1eemk8jxhh04ajhz2yg5w5wpzntpy2hrdn4a2fg\",\n",
    "                \"data\": \"c3RyaWRlMTdraHQyeDJwZWQ2cXl0cjJra2xldnR2bXhwdzd3cTlybXVjM2Nh\"\n",
    "            }\n",
    "        }\n",
    "    ],\n",
    "    \"memo\": \"\"\n",
    "}\n",
    "message = json.dumps(message, separators=(\",\", \":\"), sort_keys=True)\n"
   ]
  },
  {
   "cell_type": "code",
   "execution_count": 97,
   "id": "390a4512",
   "metadata": {},
   "outputs": [
    {
     "name": "stdout",
     "output_type": "stream",
     "text": [
      "Signature: f8fbbf71a34a298c5ce9fd49f3de981e5d063ae5a91b3e06f255d37ded0d2e268947cd2dabfa2a9691a1f79cf5e9443463fedc4fb5fce1a9fca582fb284be950\n",
      "Verification: True\n",
      "Address Generated: cosmos1eemk8jxhh04ajhz2yg5w5wpzntpy2hrds7akay\n",
      "Address Matched: False\n"
     ]
    }
   ],
   "source": [
    "cosmos_client = CosmosVerifier(bech_prefix=\"cosmos\")\n",
    "\n",
    "signature = sign_cosmos(cosmos_private_key, message)\n",
    "verification = cosmos_client.verify_signature(cosmos_public_key, message, signature)\n",
    "address = cosmos_client.generate_address(cosmos_public_key)\n",
    "\n",
    "print(\"Signature:\", signature)\n",
    "print(\"Verification:\", verification)\n",
    "print(\"Address Generated:\", address)\n",
    "print(\"Address Matched:\", address == cosmos_address)"
   ]
  },
  {
   "cell_type": "code",
   "execution_count": 98,
   "id": "168638a6",
   "metadata": {},
   "outputs": [
    {
     "name": "stdout",
     "output_type": "stream",
     "text": [
      "Signature: 6e39f6f1ae9df20f244467e4c28ebc926376140bbd972b71f995bb9492d46c963c7df8e0315917650614a7454e91df08a101e14cab63cc0705b21667a7ae2f4101\n",
      "Verification: True\n",
      "Address Generated: 0xd9e45357b93225e94ab50bd859a767d542b8f881\n",
      "Address Matched: True\n"
     ]
    }
   ],
   "source": [
    "ethereum_client = EthereumVerifier()\n",
    "\n",
    "signature_from_metamask = \"90ec75b7ec3fa034423c07d507242d1a719a4c97ea067ce8a093f001811c18396855d888ae3108eb0e23d3f186674463965c4a01d352db5492ecdfa9233980da1c\"\n",
    "signature = sign_ethereum(ethereum_private_key, message).replace(\"0x\", \"\")\n",
    "\n",
    "verification = ethereum_client.verify_signature(ethereum_public_key, message, signature)\n",
    "address = ethereum_client.generate_address(ethereum_public_key)\n",
    "\n",
    "print(\"Signature:\", signature)\n",
    "print(\"Verification:\", verification)\n",
    "print(\"Address Generated:\", address)\n",
    "print(\"Address Matched:\", address == ethereum_address)"
   ]
  },
  {
   "cell_type": "code",
   "execution_count": null,
   "id": "4f082180",
   "metadata": {},
   "outputs": [],
   "source": []
  }
 ],
 "metadata": {
  "kernelspec": {
   "display_name": "Python 3 (ipykernel)",
   "language": "python",
   "name": "python3"
  },
  "language_info": {
   "codemirror_mode": {
    "name": "ipython",
    "version": 3
   },
   "file_extension": ".py",
   "mimetype": "text/x-python",
   "name": "python",
   "nbconvert_exporter": "python",
   "pygments_lexer": "ipython3",
   "version": "3.11.9"
  }
 },
 "nbformat": 4,
 "nbformat_minor": 5
}
